{
 "cells": [
  {
   "cell_type": "code",
   "execution_count": 1,
   "metadata": {},
   "outputs": [],
   "source": [
    "import pandas as pd"
   ]
  },
  {
   "cell_type": "code",
   "execution_count": 2,
   "metadata": {},
   "outputs": [],
   "source": [
    "data_allforms_training1 = pd.read_csv('all_forms_PROACT_training.txt', sep='|', header=0, dtype={\"feature_value\":str, \"feature_unit\":str}, low_memory = False)\n",
    "data_allforms_training2 = pd.read_csv('all_forms_PROACT_training2.txt', sep='|', header=0, dtype={\"feature_value\":str, \"feature_unit\":str}, low_memory = False)\n",
    "data_allforms_leaderboard = pd.read_csv('all_forms_PROACT_leaderboard_full.txt', sep='|', header=0, dtype={\"feature_value\":str, \"feature_unit\":str}, low_memory = False)\n",
    "data_allforms_validation = pd.read_csv('all_forms_PROACT_validation_full.txt', sep='|', header=0, dtype={\"feature_value\":str, \"feature_unit\":str}, low_memory = False)"
   ]
  },
  {
   "cell_type": "code",
   "execution_count": 3,
   "metadata": {},
   "outputs": [],
   "source": [
    "data_allforms_training = pd.concat([data_allforms_training1, data_allforms_training2])\n",
    "data_allforms_test = pd.concat([data_allforms_leaderboard, data_allforms_validation])"
   ]
  },
  {
   "cell_type": "code",
   "execution_count": 4,
   "metadata": {},
   "outputs": [],
   "source": [
    "data_allforms_test_copy2 = data_allforms_test.copy()\n",
    "data_allforms_test_copy2.query('form_name ==\"ALSFRS\"', inplace=True)\n",
    "data_allforms_test_copy2.drop_duplicates(['SubjectID', 'feature_name', 'feature_delta'])\n",
    "data_allforms_test_copy2 = data_allforms_test_copy2.astype({'feature_value':'float32', 'feature_delta':'float32'})"
   ]
  },
  {
   "cell_type": "code",
   "execution_count": 5,
   "metadata": {},
   "outputs": [
    {
     "name": "stdout",
     "output_type": "stream",
     "text": [
      "8835\n",
      "1888\n"
     ]
    }
   ],
   "source": [
    "print(len(data_allforms_training[\"SubjectID\"].unique()))\n",
    "print(len(data_allforms_test[\"SubjectID\"].unique()))"
   ]
  },
  {
   "cell_type": "markdown",
   "metadata": {},
   "source": [
    "Demographics"
   ]
  },
  {
   "cell_type": "code",
   "execution_count": 6,
   "metadata": {},
   "outputs": [],
   "source": [
    "data_allforms_training_copy = data_allforms_training.copy()\n",
    "data_allforms_test_copy = data_allforms_test.copy()\n",
    "data_allforms_training_copy.query('form_name ==\"Demographic\"', inplace=True)\n",
    "data_allforms_test_copy.query('form_name ==\"Demographic\"', inplace=True)"
   ]
  },
  {
   "cell_type": "code",
   "execution_count": 7,
   "metadata": {},
   "outputs": [],
   "source": [
    "demographic_training=data_allforms_training_copy.pivot(index='SubjectID', columns='feature_name', values='feature_value')\n",
    "demographic_test=data_allforms_test_copy.pivot(index='SubjectID', columns='feature_name', values='feature_value')"
   ]
  },
  {
   "cell_type": "code",
   "execution_count": 8,
   "metadata": {},
   "outputs": [],
   "source": [
    "demographic_training = demographic_training.reset_index().set_index('SubjectID')\n",
    "demographic_test = demographic_test.reset_index().set_index('SubjectID')"
   ]
  },
  {
   "cell_type": "code",
   "execution_count": 9,
   "metadata": {},
   "outputs": [],
   "source": [
    "demographic_training.to_csv(\"demographic_training.csv\")\n",
    "demographic_test.to_csv(\"demographic_test.csv\")"
   ]
  },
  {
   "cell_type": "markdown",
   "metadata": {},
   "source": [
    "ALSFRS_training"
   ]
  },
  {
   "cell_type": "code",
   "execution_count": 10,
   "metadata": {},
   "outputs": [],
   "source": [
    "data_allforms_training_copy2 = data_allforms_training.copy()\n",
    "data_allforms_training_copy2.query('form_name ==\"ALSFRS\"', inplace=True)\n",
    "data_allforms_training_copy2.drop_duplicates(['SubjectID', 'feature_name', 'feature_delta'])\n",
    "data_allforms_training_copy2 = data_allforms_training_copy2.astype({'feature_value':'float32', 'feature_delta':'float32'})"
   ]
  },
  {
   "cell_type": "code",
   "execution_count": 11,
   "metadata": {},
   "outputs": [],
   "source": [
    "ALSFRS_original_training = pd.DataFrame(columns=['SubjectID', 'feature_delta'])\n",
    "Q_orig_list = ['ALSFRS_Total', 'Q1_Speech', 'Q2_Salivation', 'Q3_Swallowing', 'Q4_Handwriting','Q5_Cutting','Q5a_Cutting_without_Gastrostomy','Q5b_Cutting_with_Gastrostomy',  'Q6_Dressing_and_Hygiene', 'Q7_Turning_in_Bed', 'Q8_Walking', 'Q9_Climbing_Stairs', 'Q10_Respiratory', 'mouth', 'hands', 'trunk', 'leg','respiratory']\n",
    "for item in Q_orig_list :\n",
    "    Q = data_allforms_training_copy2[data_allforms_training_copy2.feature_name==item][['SubjectID','feature_delta', 'feature_value']].rename(columns={\"feature_value\":item})\n",
    "    ALSFRS_original_training = ALSFRS_original_training.merge(Q, on=['SubjectID','feature_delta'], how='outer')"
   ]
  },
  {
   "cell_type": "code",
   "execution_count": 12,
   "metadata": {},
   "outputs": [],
   "source": [
    "ALSFRS_original_training.set_index('SubjectID', inplace=True)\n",
    "ALSFRS_original_training.to_csv(\"ALSFRS_original_training.csv\")"
   ]
  },
  {
   "cell_type": "code",
   "execution_count": 13,
   "metadata": {},
   "outputs": [],
   "source": [
    "ALSFRS_rev_training = pd.DataFrame(columns=['SubjectID', 'feature_delta'])\n",
    "Q_rev_list = ['ALSFRS_R_Total','Q1_Speech', 'Q2_Salivation', 'Q3_Swallowing', 'Q4_Handwriting','Q5_Cutting','Q5a_Cutting_without_Gastrostomy','Q5b_Cutting_with_Gastrostomy',  'Q6_Dressing_and_Hygiene', 'Q7_Turning_in_Bed', 'Q8_Walking', 'Q9_Climbing_Stairs', 'R1_Dyspnea', 'R2_Orthopnea', 'R3_Respiratory_Insufficiency', 'mouth', 'hands', 'trunk', 'leg', 'respiratory_R']\n",
    "for i in Q_rev_list :\n",
    "    q = data_allforms_training_copy2[data_allforms_training_copy2.feature_name==i][['SubjectID','feature_delta', 'feature_value']].rename(columns={\"feature_value\":i})\n",
    "    ALSFRS_rev_training = ALSFRS_rev_training.merge(q, on=['SubjectID','feature_delta'], how='outer')"
   ]
  },
  {
   "cell_type": "code",
   "execution_count": 14,
   "metadata": {},
   "outputs": [],
   "source": [
    "ALSFRS_rev_training.set_index('SubjectID', inplace=True)\n",
    "ALSFRS_rev_training.to_csv(\"ALSFRS_revised_training.csv\")"
   ]
  },
  {
   "cell_type": "markdown",
   "metadata": {},
   "source": [
    "ALSFRS_test"
   ]
  },
  {
   "cell_type": "code",
   "execution_count": 15,
   "metadata": {
    "scrolled": true
   },
   "outputs": [],
   "source": [
    "ALSFRS_original_test = pd.DataFrame(columns=['SubjectID', 'feature_delta'])\n",
    "for i in Q_orig_list :\n",
    "    q = data_allforms_test_copy2[data_allforms_test_copy2.feature_name==i][['SubjectID','feature_delta', 'feature_value']].rename(columns={\"feature_value\":i})\n",
    "    ALSFRS_original_test = ALSFRS_original_test.merge(q, on=['SubjectID','feature_delta'], how='outer')"
   ]
  },
  {
   "cell_type": "code",
   "execution_count": null,
   "metadata": {},
   "outputs": [],
   "source": [
    "ALSFRS_original_test.set_index('SubjectID', inplace=True)\n",
    "ALSFRS_original_test.to_csv(\"ALSFRS_original_test.csv\")"
   ]
  },
  {
   "cell_type": "code",
   "execution_count": null,
   "metadata": {},
   "outputs": [],
   "source": [
    "ALSFRS_rev_test = pd.DataFrame(columns=['SubjectID', 'feature_delta'])\n",
    "for i in Q_rev_list :\n",
    "    q = data_allforms_test_copy2[data_allforms_test_copy2.feature_name==i][['SubjectID','feature_delta', 'feature_value']].rename(columns={\"feature_value\":i})\n",
    "    ALSFRS_rev_test = ALSFRS_rev_test.merge(q, on=['SubjectID','feature_delta'], how='outer')"
   ]
  },
  {
   "cell_type": "code",
   "execution_count": null,
   "metadata": {},
   "outputs": [],
   "source": [
    "ALSFRS_rev_test.set_index('SubjectID', inplace=True)\n",
    "ALSFRS_rev_test.to_csv(\"ALSFRS_revised_test.csv\")"
   ]
  }
 ],
 "metadata": {
  "kernelspec": {
   "display_name": "Python 3",
   "language": "python",
   "name": "python3"
  },
  "language_info": {
   "codemirror_mode": {
    "name": "ipython",
    "version": 3
   },
   "file_extension": ".py",
   "mimetype": "text/x-python",
   "name": "python",
   "nbconvert_exporter": "python",
   "pygments_lexer": "ipython3",
   "version": "3.8.5"
  }
 },
 "nbformat": 4,
 "nbformat_minor": 4
}
