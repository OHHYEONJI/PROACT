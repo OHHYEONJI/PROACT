{
 "cells": [
  {
   "cell_type": "code",
   "execution_count": 1,
   "metadata": {},
   "outputs": [],
   "source": [
    "import pandas as pd\n",
    "import numpy as np\n",
    "from sklearn.impute import SimpleImputer"
   ]
  },
  {
   "cell_type": "code",
   "execution_count": 2,
   "metadata": {},
   "outputs": [],
   "source": [
    "p_alsfrs_3mo = pd.read_csv('p_alsfrs_total_3mo_meta_slope.csv')\n",
    "p_fvc_3mo = pd.read_csv('p_fvc_3mo_meta.csv')\n",
    "p_svc_3mo = pd.read_csv('p_svc_3mo_meta.csv')\n",
    "p_vitals_stat = pd.read_csv('p_vitals_stat.csv')\n",
    "p_weight_stat = pd.read_csv('p_weight_stat.csv')\n",
    "p_bmi_stat = pd.read_csv('p_bmi_stat.csv')"
   ]
  },
  {
   "cell_type": "code",
   "execution_count": 3,
   "metadata": {},
   "outputs": [],
   "source": [
    "p_time_res = pd.DataFrame(columns=['SubjectID'])\n",
    "time_res_list = [p_alsfrs_3mo, p_fvc_3mo, p_svc_3mo, p_vitals_stat, p_weight_stat, p_bmi_stat]\n",
    "for i in time_res_list :\n",
    "    df = i\n",
    "    p_time_res = p_time_res.merge(df, on='SubjectID', how='outer')"
   ]
  },
  {
   "cell_type": "code",
   "execution_count": 4,
   "metadata": {},
   "outputs": [],
   "source": [
    "p_time_res.set_index('SubjectID', inplace=True)"
   ]
  },
  {
   "cell_type": "markdown",
   "metadata": {},
   "source": [
    "Replace NaN to most frequent value of each column(Static data)"
   ]
  },
  {
   "cell_type": "code",
   "execution_count": 5,
   "metadata": {},
   "outputs": [
    {
     "data": {
      "text/html": [
       "<div>\n",
       "<style scoped>\n",
       "    .dataframe tbody tr th:only-of-type {\n",
       "        vertical-align: middle;\n",
       "    }\n",
       "\n",
       "    .dataframe tbody tr th {\n",
       "        vertical-align: top;\n",
       "    }\n",
       "\n",
       "    .dataframe thead th {\n",
       "        text-align: right;\n",
       "    }\n",
       "</style>\n",
       "<table border=\"1\" class=\"dataframe\">\n",
       "  <thead>\n",
       "    <tr style=\"text-align: right;\">\n",
       "      <th></th>\n",
       "      <th>SubjectID</th>\n",
       "      <th>Age</th>\n",
       "      <th>Gender</th>\n",
       "      <th>Race</th>\n",
       "      <th>family_ALS_hist</th>\n",
       "      <th>diag_delta</th>\n",
       "      <th>onset_delta</th>\n",
       "      <th>onset_site</th>\n",
       "      <th>if_use_Riluzole</th>\n",
       "      <th>treatment_group</th>\n",
       "    </tr>\n",
       "  </thead>\n",
       "  <tbody>\n",
       "    <tr>\n",
       "      <th>0</th>\n",
       "      <td>586</td>\n",
       "      <td>63.0</td>\n",
       "      <td>M</td>\n",
       "      <td>White</td>\n",
       "      <td>NaN</td>\n",
       "      <td>-507.0</td>\n",
       "      <td>-715.0</td>\n",
       "      <td>Bulbar</td>\n",
       "      <td>No</td>\n",
       "      <td>NaN</td>\n",
       "    </tr>\n",
       "    <tr>\n",
       "      <th>1</th>\n",
       "      <td>2416</td>\n",
       "      <td>73.0</td>\n",
       "      <td>M</td>\n",
       "      <td>White</td>\n",
       "      <td>NaN</td>\n",
       "      <td>-633.0</td>\n",
       "      <td>-878.0</td>\n",
       "      <td>Bulbar</td>\n",
       "      <td>No</td>\n",
       "      <td>NaN</td>\n",
       "    </tr>\n",
       "    <tr>\n",
       "      <th>2</th>\n",
       "      <td>4205</td>\n",
       "      <td>39.0</td>\n",
       "      <td>M</td>\n",
       "      <td>White</td>\n",
       "      <td>NaN</td>\n",
       "      <td>-429.0</td>\n",
       "      <td>-549.0</td>\n",
       "      <td>Limb</td>\n",
       "      <td>Yes</td>\n",
       "      <td>Active</td>\n",
       "    </tr>\n",
       "    <tr>\n",
       "      <th>3</th>\n",
       "      <td>4429</td>\n",
       "      <td>57.0</td>\n",
       "      <td>M</td>\n",
       "      <td>White</td>\n",
       "      <td>NaN</td>\n",
       "      <td>-128.0</td>\n",
       "      <td>-340.0</td>\n",
       "      <td>Limb</td>\n",
       "      <td>Yes</td>\n",
       "      <td>Active</td>\n",
       "    </tr>\n",
       "    <tr>\n",
       "      <th>4</th>\n",
       "      <td>5773</td>\n",
       "      <td>60.0</td>\n",
       "      <td>M</td>\n",
       "      <td>White</td>\n",
       "      <td>NaN</td>\n",
       "      <td>-231.0</td>\n",
       "      <td>-587.0</td>\n",
       "      <td>Bulbar</td>\n",
       "      <td>Yes</td>\n",
       "      <td>NaN</td>\n",
       "    </tr>\n",
       "    <tr>\n",
       "      <th>...</th>\n",
       "      <td>...</td>\n",
       "      <td>...</td>\n",
       "      <td>...</td>\n",
       "      <td>...</td>\n",
       "      <td>...</td>\n",
       "      <td>...</td>\n",
       "      <td>...</td>\n",
       "      <td>...</td>\n",
       "      <td>...</td>\n",
       "      <td>...</td>\n",
       "    </tr>\n",
       "    <tr>\n",
       "      <th>594</th>\n",
       "      <td>988743</td>\n",
       "      <td>65.0</td>\n",
       "      <td>M</td>\n",
       "      <td>White</td>\n",
       "      <td>N</td>\n",
       "      <td>-61.0</td>\n",
       "      <td>-260.0</td>\n",
       "      <td>Other</td>\n",
       "      <td>Yes</td>\n",
       "      <td>Placebo</td>\n",
       "    </tr>\n",
       "    <tr>\n",
       "      <th>595</th>\n",
       "      <td>992259</td>\n",
       "      <td>52.0</td>\n",
       "      <td>M</td>\n",
       "      <td>White</td>\n",
       "      <td>N</td>\n",
       "      <td>-345.0</td>\n",
       "      <td>-450.0</td>\n",
       "      <td>Bulbar</td>\n",
       "      <td>Yes</td>\n",
       "      <td>Placebo</td>\n",
       "    </tr>\n",
       "    <tr>\n",
       "      <th>596</th>\n",
       "      <td>993802</td>\n",
       "      <td>55.0</td>\n",
       "      <td>M</td>\n",
       "      <td>White</td>\n",
       "      <td>NaN</td>\n",
       "      <td>-318.0</td>\n",
       "      <td>-742.0</td>\n",
       "      <td>Limb</td>\n",
       "      <td>No</td>\n",
       "      <td>Active</td>\n",
       "    </tr>\n",
       "    <tr>\n",
       "      <th>597</th>\n",
       "      <td>999117</td>\n",
       "      <td>55.0</td>\n",
       "      <td>M</td>\n",
       "      <td>White</td>\n",
       "      <td>NaN</td>\n",
       "      <td>-80.0</td>\n",
       "      <td>-537.0</td>\n",
       "      <td>Limb</td>\n",
       "      <td>Yes</td>\n",
       "      <td>Placebo</td>\n",
       "    </tr>\n",
       "    <tr>\n",
       "      <th>598</th>\n",
       "      <td>999761</td>\n",
       "      <td>62.0</td>\n",
       "      <td>M</td>\n",
       "      <td>White</td>\n",
       "      <td>NaN</td>\n",
       "      <td>-201.0</td>\n",
       "      <td>-717.0</td>\n",
       "      <td>Limb</td>\n",
       "      <td>Yes</td>\n",
       "      <td>Active</td>\n",
       "    </tr>\n",
       "  </tbody>\n",
       "</table>\n",
       "<p>599 rows × 10 columns</p>\n",
       "</div>"
      ],
      "text/plain": [
       "     SubjectID   Age Gender   Race family_ALS_hist  diag_delta  onset_delta  \\\n",
       "0          586  63.0      M  White             NaN      -507.0       -715.0   \n",
       "1         2416  73.0      M  White             NaN      -633.0       -878.0   \n",
       "2         4205  39.0      M  White             NaN      -429.0       -549.0   \n",
       "3         4429  57.0      M  White             NaN      -128.0       -340.0   \n",
       "4         5773  60.0      M  White             NaN      -231.0       -587.0   \n",
       "..         ...   ...    ...    ...             ...         ...          ...   \n",
       "594     988743  65.0      M  White               N       -61.0       -260.0   \n",
       "595     992259  52.0      M  White               N      -345.0       -450.0   \n",
       "596     993802  55.0      M  White             NaN      -318.0       -742.0   \n",
       "597     999117  55.0      M  White             NaN       -80.0       -537.0   \n",
       "598     999761  62.0      M  White             NaN      -201.0       -717.0   \n",
       "\n",
       "    onset_site if_use_Riluzole treatment_group  \n",
       "0       Bulbar              No             NaN  \n",
       "1       Bulbar              No             NaN  \n",
       "2         Limb             Yes          Active  \n",
       "3         Limb             Yes          Active  \n",
       "4       Bulbar             Yes             NaN  \n",
       "..         ...             ...             ...  \n",
       "594      Other             Yes         Placebo  \n",
       "595     Bulbar             Yes         Placebo  \n",
       "596       Limb              No          Active  \n",
       "597       Limb             Yes         Placebo  \n",
       "598       Limb             Yes          Active  \n",
       "\n",
       "[599 rows x 10 columns]"
      ]
     },
     "execution_count": 5,
     "metadata": {},
     "output_type": "execute_result"
    }
   ],
   "source": [
    "p_static = pd.read_csv('p_static_features.csv')\n",
    "p_static"
   ]
  },
  {
   "cell_type": "code",
   "execution_count": 6,
   "metadata": {},
   "outputs": [],
   "source": [
    "imp1 = SimpleImputer(missing_values = np.nan, strategy = 'most_frequent')"
   ]
  },
  {
   "cell_type": "code",
   "execution_count": 7,
   "metadata": {},
   "outputs": [],
   "source": [
    "p_static1 = pd.DataFrame(imp1.fit_transform(p_static), columns = p_static.columns, index=p_static)"
   ]
  },
  {
   "cell_type": "code",
   "execution_count": 8,
   "metadata": {},
   "outputs": [],
   "source": [
    "p_static1.to_csv('p_static_without_nan.csv')"
   ]
  },
  {
   "cell_type": "markdown",
   "metadata": {},
   "source": [
    "Combine all the features into 1 dataframe"
   ]
  },
  {
   "cell_type": "code",
   "execution_count": 9,
   "metadata": {},
   "outputs": [],
   "source": [
    "p_features_combined = p_static1.merge(p_time_res, on='SubjectID', how='outer')"
   ]
  },
  {
   "cell_type": "code",
   "execution_count": 10,
   "metadata": {},
   "outputs": [],
   "source": [
    "p_features_without_nans = p_features_combined.fillna(round(p_time_res.mean(),1))"
   ]
  },
  {
   "cell_type": "code",
   "execution_count": 11,
   "metadata": {},
   "outputs": [],
   "source": [
    "p_features_without_nans.to_csv('p_features_combined_without_nan.csv')"
   ]
  },
  {
   "cell_type": "code",
   "execution_count": null,
   "metadata": {},
   "outputs": [],
   "source": []
  }
 ],
 "metadata": {
  "kernelspec": {
   "display_name": "Python 3",
   "language": "python",
   "name": "python3"
  },
  "language_info": {
   "codemirror_mode": {
    "name": "ipython",
    "version": 3
   },
   "file_extension": ".py",
   "mimetype": "text/x-python",
   "name": "python",
   "nbconvert_exporter": "python",
   "pygments_lexer": "ipython3",
   "version": "3.8.5"
  }
 },
 "nbformat": 4,
 "nbformat_minor": 4
}
