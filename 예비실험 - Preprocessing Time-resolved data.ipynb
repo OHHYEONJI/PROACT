{
 "cells": [
  {
   "cell_type": "code",
   "execution_count": 1,
   "metadata": {},
   "outputs": [],
   "source": [
    "import pandas as pd"
   ]
  },
  {
   "cell_type": "code",
   "execution_count": 2,
   "metadata": {},
   "outputs": [],
   "source": [
    "p_vitals = pd.read_csv('p_vitals.csv')\n",
    "p_weight = pd.read_csv('p_weight.csv')\n",
    "p_bmi = pd.read_csv('p_bmi.csv')"
   ]
  },
  {
   "cell_type": "markdown",
   "metadata": {},
   "source": [
    "Weight"
   ]
  },
  {
   "cell_type": "code",
   "execution_count": 3,
   "metadata": {},
   "outputs": [
    {
     "data": {
      "text/html": [
       "<div>\n",
       "<style scoped>\n",
       "    .dataframe tbody tr th:only-of-type {\n",
       "        vertical-align: middle;\n",
       "    }\n",
       "\n",
       "    .dataframe tbody tr th {\n",
       "        vertical-align: top;\n",
       "    }\n",
       "\n",
       "    .dataframe thead tr th {\n",
       "        text-align: left;\n",
       "    }\n",
       "</style>\n",
       "<table border=\"1\" class=\"dataframe\">\n",
       "  <thead>\n",
       "    <tr>\n",
       "      <th></th>\n",
       "      <th>SubjectID</th>\n",
       "      <th colspan=\"3\" halign=\"left\">weight</th>\n",
       "    </tr>\n",
       "    <tr>\n",
       "      <th></th>\n",
       "      <th></th>\n",
       "      <th>mean</th>\n",
       "      <th>max</th>\n",
       "      <th>min</th>\n",
       "    </tr>\n",
       "  </thead>\n",
       "  <tbody>\n",
       "    <tr>\n",
       "      <th>0</th>\n",
       "      <td>586</td>\n",
       "      <td>61.800</td>\n",
       "      <td>61.8</td>\n",
       "      <td>61.8</td>\n",
       "    </tr>\n",
       "    <tr>\n",
       "      <th>1</th>\n",
       "      <td>4205</td>\n",
       "      <td>69.500</td>\n",
       "      <td>69.5</td>\n",
       "      <td>69.5</td>\n",
       "    </tr>\n",
       "    <tr>\n",
       "      <th>2</th>\n",
       "      <td>4429</td>\n",
       "      <td>61.000</td>\n",
       "      <td>61.0</td>\n",
       "      <td>61.0</td>\n",
       "    </tr>\n",
       "    <tr>\n",
       "      <th>3</th>\n",
       "      <td>5773</td>\n",
       "      <td>92.800</td>\n",
       "      <td>92.8</td>\n",
       "      <td>92.8</td>\n",
       "    </tr>\n",
       "    <tr>\n",
       "      <th>4</th>\n",
       "      <td>5918</td>\n",
       "      <td>112.000</td>\n",
       "      <td>114.0</td>\n",
       "      <td>108.0</td>\n",
       "    </tr>\n",
       "    <tr>\n",
       "      <th>...</th>\n",
       "      <td>...</td>\n",
       "      <td>...</td>\n",
       "      <td>...</td>\n",
       "      <td>...</td>\n",
       "    </tr>\n",
       "    <tr>\n",
       "      <th>472</th>\n",
       "      <td>988743</td>\n",
       "      <td>66.775</td>\n",
       "      <td>68.3</td>\n",
       "      <td>65.1</td>\n",
       "    </tr>\n",
       "    <tr>\n",
       "      <th>473</th>\n",
       "      <td>992259</td>\n",
       "      <td>88.300</td>\n",
       "      <td>89.2</td>\n",
       "      <td>86.6</td>\n",
       "    </tr>\n",
       "    <tr>\n",
       "      <th>474</th>\n",
       "      <td>993802</td>\n",
       "      <td>115.100</td>\n",
       "      <td>115.5</td>\n",
       "      <td>114.7</td>\n",
       "    </tr>\n",
       "    <tr>\n",
       "      <th>475</th>\n",
       "      <td>999117</td>\n",
       "      <td>91.300</td>\n",
       "      <td>91.3</td>\n",
       "      <td>91.3</td>\n",
       "    </tr>\n",
       "    <tr>\n",
       "      <th>476</th>\n",
       "      <td>999761</td>\n",
       "      <td>91.350</td>\n",
       "      <td>91.6</td>\n",
       "      <td>91.1</td>\n",
       "    </tr>\n",
       "  </tbody>\n",
       "</table>\n",
       "<p>477 rows × 4 columns</p>\n",
       "</div>"
      ],
      "text/plain": [
       "    SubjectID   weight              \n",
       "                  mean    max    min\n",
       "0         586   61.800   61.8   61.8\n",
       "1        4205   69.500   69.5   69.5\n",
       "2        4429   61.000   61.0   61.0\n",
       "3        5773   92.800   92.8   92.8\n",
       "4        5918  112.000  114.0  108.0\n",
       "..        ...      ...    ...    ...\n",
       "472    988743   66.775   68.3   65.1\n",
       "473    992259   88.300   89.2   86.6\n",
       "474    993802  115.100  115.5  114.7\n",
       "475    999117   91.300   91.3   91.3\n",
       "476    999761   91.350   91.6   91.1\n",
       "\n",
       "[477 rows x 4 columns]"
      ]
     },
     "execution_count": 3,
     "metadata": {},
     "output_type": "execute_result"
    }
   ],
   "source": [
    "p_weight_s1 = p_weight.iloc[:,:2].groupby('SubjectID',group_keys=False).agg(['mean', 'max', 'min'])\n",
    "p_weight_s1.reset_index()"
   ]
  },
  {
   "cell_type": "code",
   "execution_count": 4,
   "metadata": {},
   "outputs": [],
   "source": [
    "p_weight_s2 = p_weight.groupby('SubjectID').agg(['first', 'last'])\n",
    "p_weight_s2.reset_index()\n",
    "p_weight_s2['weight_change'] = p_weight_s2.iloc[:,1] - p_weight_s2.iloc[:,0]\n",
    "p_weight_s2['interval'] = p_weight_s2.iloc[:,3] - p_weight_s2.iloc[:,2]\n",
    "p_weight_s2['weight_slope'] = p_weight_s2['weight_change']/p_weight_s2['interval']"
   ]
  },
  {
   "cell_type": "code",
   "execution_count": 5,
   "metadata": {},
   "outputs": [],
   "source": [
    "p_weight_stat = p_weight_s1.merge(p_weight_s2[['weight_slope']], on = 'SubjectID', how='outer')\n",
    "p_weight_stat.columns = p_weight_stat.columns.droplevel()\n",
    "p_weight_stat.columns = ['mean_weight', 'max_weight', 'min_weight', 'slope_weight']"
   ]
  },
  {
   "cell_type": "code",
   "execution_count": 6,
   "metadata": {},
   "outputs": [],
   "source": [
    "p_weight_stat.to_csv('p_weight_stat.csv')"
   ]
  },
  {
   "cell_type": "code",
   "execution_count": 27,
   "metadata": {},
   "outputs": [
    {
     "name": "stdout",
     "output_type": "stream",
     "text": [
      "mean value of mean_weight is 78.26600279524816\n",
      "mean value of max_weight is 79.11446540880499\n",
      "mean value of min_weight is 77.30796645702301\n",
      "mean slope of weight is -0.009942656616502689\n"
     ]
    }
   ],
   "source": [
    "print(\"mean value of mean_weight is \"+str(p_weight_stat[\"mean_weight\"].mean()))\n",
    "print(\"mean value of max_weight is \"+str(p_weight_stat[\"max_weight\"].mean()))\n",
    "print(\"mean value of min_weight is \"+str(p_weight_stat[\"min_weight\"].mean()))\n",
    "print(\"mean slope of weight is \"+str(p_weight_stat[\"slope_weight\"].mean()))"
   ]
  },
  {
   "cell_type": "markdown",
   "metadata": {},
   "source": [
    "Bmi"
   ]
  },
  {
   "cell_type": "code",
   "execution_count": 8,
   "metadata": {},
   "outputs": [],
   "source": [
    "p_bmi_stat = p_bmi.iloc[:,:2].groupby('SubjectID').mean()\n",
    "p_bmi_stat.reset_index()\n",
    "p_bmi_stat.columns = ['mean_BMI']"
   ]
  },
  {
   "cell_type": "code",
   "execution_count": 9,
   "metadata": {},
   "outputs": [],
   "source": [
    "p_bmi_stat.to_csv('p_bmi_stat.csv')"
   ]
  },
  {
   "cell_type": "code",
   "execution_count": 10,
   "metadata": {},
   "outputs": [
    {
     "name": "stdout",
     "output_type": "stream",
     "text": [
      "mean value of mean_bmi is 0.0026631820556759643\n"
     ]
    }
   ],
   "source": [
    "print(\"mean value of mean_bmi is \"+str(p_bmi_stat[\"mean_BMI\"].mean()))"
   ]
  },
  {
   "cell_type": "markdown",
   "metadata": {},
   "source": [
    "Vitals"
   ]
  },
  {
   "cell_type": "code",
   "execution_count": 11,
   "metadata": {},
   "outputs": [],
   "source": [
    "p_vitals_s1 = p_vitals.iloc[:, [0,2,3,4,5,6]].groupby('SubjectID').agg(['mean','max', 'min'])\n",
    "p_weight_s1.reset_index()\n",
    "p_vitals_s1.columns = p_vitals_s1.columns.droplevel()\n",
    "p_vitals_s1.columns = ['mean_bp_d','max_bp_d', 'min_bp_d', 'mean_bp_s', 'max_bp_s', 'min_bp_s', 'mean_pulse', 'max_pulse', 'min_pulse', 'mean_resp_rate', 'max_resp_rate','min_resp_rate', 'mean_temp', 'max_temp', 'min_temp']"
   ]
  },
  {
   "cell_type": "code",
   "execution_count": 12,
   "metadata": {},
   "outputs": [],
   "source": [
    "p_vitals_s2 = p_vitals.groupby('SubjectID').agg(['first', 'last'])"
   ]
  },
  {
   "cell_type": "code",
   "execution_count": 13,
   "metadata": {},
   "outputs": [],
   "source": [
    "p_vitals_s2['interval'] = p_vitals_s2.iloc[:,1] - p_vitals_s2.iloc[:,0]\n",
    "p_vitals_s2['bp_d_slope'] = (p_vitals_s2.iloc[:,3] - p_vitals_s2.iloc[:,2])/p_vitals_s2['interval']\n",
    "p_vitals_s2['bp_s_slope'] = (p_vitals_s2.iloc[:,5] - p_vitals_s2.iloc[:,4])/p_vitals_s2['interval']\n",
    "p_vitals_s2['pulse_slope'] = (p_vitals_s2.iloc[:,7] - p_vitals_s2.iloc[:,6])/p_vitals_s2['interval']\n",
    "p_vitals_s2['resp_rate_slope'] = (p_vitals_s2.iloc[:,9] - p_vitals_s2.iloc[:,8])/p_vitals_s2['interval']\n",
    "p_vitals_s2['temp_slope'] = (p_vitals_s2.iloc[:,11] - p_vitals_s2.iloc[:,10])/p_vitals_s2['interval']\n",
    "p_vitals_s3 = p_vitals_s2.iloc[:,13:]\n",
    "p_vitals_s3.reset_index()\n",
    "p_vitals_s3.columns = p_vitals_s3.columns.droplevel()\n",
    "p_vitals_s3.columns = ['bp_d_slope', 'bp_s_slope', 'pulse_slope', 'resp_rate_slope', 'temp_slope']"
   ]
  },
  {
   "cell_type": "code",
   "execution_count": 14,
   "metadata": {},
   "outputs": [],
   "source": [
    "p_vitals_stat = p_vitals_s1.merge(p_vitals_s3, on='SubjectID', how='outer')"
   ]
  },
  {
   "cell_type": "code",
   "execution_count": 15,
   "metadata": {},
   "outputs": [
    {
     "name": "stdout",
     "output_type": "stream",
     "text": [
      "mean slope of bp_diastolic is -0.012789785355591155\n",
      "mean slope of bp_systolic is -0.03011553042853546\n",
      "mean slope of pulse is 0.028981676582765275\n",
      "mean slope of repiratory_rate is 0.006410376805338325\n",
      "mean slope of temperature is -0.0009184281970014379\n"
     ]
    }
   ],
   "source": [
    "print(\"mean slope of bp_diastolic is \"+str(p_vitals_stat[\"bp_d_slope\"].mean()))\n",
    "print(\"mean slope of bp_systolic is \"+str(p_vitals_stat[\"bp_s_slope\"].mean()))\n",
    "print(\"mean slope of pulse is \"+str(p_vitals_stat[\"pulse_slope\"].mean()))\n",
    "print(\"mean slope of repiratory_rate is \"+str(p_vitals_stat[\"resp_rate_slope\"].mean()))\n",
    "print(\"mean slope of temperature is \"+str(p_vitals_stat[\"temp_slope\"].mean()))"
   ]
  },
  {
   "cell_type": "code",
   "execution_count": 16,
   "metadata": {},
   "outputs": [],
   "source": [
    "p_vitals_stat.to_csv('p_vitals_stat.csv')"
   ]
  },
  {
   "cell_type": "markdown",
   "metadata": {},
   "source": [
    "ALSFRS_3mo"
   ]
  },
  {
   "cell_type": "code",
   "execution_count": 17,
   "metadata": {},
   "outputs": [],
   "source": [
    "p_alsfrs_tot_3mo = pd.read_csv(\"p_alsfrs_total_3mo_meta_slope.csv\")"
   ]
  },
  {
   "cell_type": "code",
   "execution_count": 18,
   "metadata": {},
   "outputs": [],
   "source": [
    "p_alsfrs_tot_3mo.set_index('SubjectID', inplace=True)"
   ]
  },
  {
   "cell_type": "code",
   "execution_count": 19,
   "metadata": {},
   "outputs": [
    {
     "name": "stdout",
     "output_type": "stream",
     "text": [
      "mean slope of total alsfrs is -0.03206606425348899\n",
      "mean value of mean_alsfrs_total is 29.070790378006873\n",
      "mean value of max_alsfrs_total is 30.23298969072165\n",
      "mean value of min_alsfrs_total is 27.797938144329898\n"
     ]
    }
   ],
   "source": [
    "print(\"mean slope of total alsfrs is \"+str(p_alsfrs_tot_3mo[\"alsfrs_total_slope\"].mean()))\n",
    "print(\"mean value of mean_alsfrs_total is \"+str(p_alsfrs_tot_3mo[\"mean_alsfrs_total\"].mean()))\n",
    "print(\"mean value of max_alsfrs_total is \"+str(p_alsfrs_tot_3mo[\"max_alsfrs_total\"].mean()))\n",
    "print(\"mean value of min_alsfrs_total is \"+str(p_alsfrs_tot_3mo[\"min_alsfrs_total\"].mean()))"
   ]
  },
  {
   "cell_type": "markdown",
   "metadata": {},
   "source": [
    "FVC, SVC 3mo"
   ]
  },
  {
   "cell_type": "code",
   "execution_count": 20,
   "metadata": {},
   "outputs": [],
   "source": [
    "p_fvc_3mo = pd.read_csv(\"p_fvc_3mo_meta.csv\")\n",
    "p_svc_3mo = pd.read_csv(\"p_svc_3mo_meta.csv\")"
   ]
  },
  {
   "cell_type": "code",
   "execution_count": 24,
   "metadata": {},
   "outputs": [
    {
     "name": "stdout",
     "output_type": "stream",
     "text": [
      "mean slope of fvc is -0.12233206159244352\n",
      "mean value of mean_fvc is 81.73387096774195\n",
      "mean value of max_fvc is 85.63225806451612\n",
      "mean value of min_fvc is 77.63225806451612\n"
     ]
    }
   ],
   "source": [
    "print(\"mean slope of fvc is \"+str(p_fvc_3mo[\"fvc_slope\"].mean()))\n",
    "print(\"mean value of mean_fvc is \"+str(p_fvc_3mo[\"fvc_mean\"].mean()))\n",
    "print(\"mean value of max_fvc is \"+str(p_fvc_3mo[\"fvc_max\"].mean()))\n",
    "print(\"mean value of min_fvc is \"+str(p_fvc_3mo[\"fvc_min\"].mean()))"
   ]
  },
  {
   "cell_type": "code",
   "execution_count": 26,
   "metadata": {},
   "outputs": [
    {
     "name": "stdout",
     "output_type": "stream",
     "text": [
      "mean slope of svc is -0.10170482720283075\n",
      "mean value of mean_svc is 89.41931216931219\n",
      "mean value of max_svc is 94.9920634920635\n",
      "mean value of min_svc is 82.98412698412699\n"
     ]
    }
   ],
   "source": [
    "print(\"mean slope of svc is \"+str(p_svc_3mo[\"svc_slope\"].mean()))\n",
    "print(\"mean value of mean_svc is \"+str(p_svc_3mo[\"svc_mean\"].mean()))\n",
    "print(\"mean value of max_svc is \"+str(p_svc_3mo[\"svc_max\"].mean()))\n",
    "print(\"mean value of min_svc is \"+str(p_svc_3mo[\"svc_min\"].mean()))"
   ]
  }
 ],
 "metadata": {
  "kernelspec": {
   "display_name": "Python 3",
   "language": "python",
   "name": "python3"
  },
  "language_info": {
   "codemirror_mode": {
    "name": "ipython",
    "version": 3
   },
   "file_extension": ".py",
   "mimetype": "text/x-python",
   "name": "python",
   "nbconvert_exporter": "python",
   "pygments_lexer": "ipython3",
   "version": "3.8.5"
  }
 },
 "nbformat": 4,
 "nbformat_minor": 4
}
