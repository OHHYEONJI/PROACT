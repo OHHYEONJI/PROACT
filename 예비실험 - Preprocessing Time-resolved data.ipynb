{
 "cells": [
  {
   "cell_type": "code",
   "execution_count": 1,
   "metadata": {},
   "outputs": [],
   "source": [
    "import pandas as pd"
   ]
  },
  {
   "cell_type": "code",
   "execution_count": 2,
   "metadata": {},
   "outputs": [],
   "source": [
    "p_vitals = pd.read_csv('p_vitals.csv')\n",
    "p_weight = pd.read_csv('p_weight.csv')\n",
    "p_bmi = pd.read_csv('p_bmi.csv')"
   ]
  },
  {
   "cell_type": "markdown",
   "metadata": {},
   "source": [
    "Weight"
   ]
  },
  {
   "cell_type": "code",
   "execution_count": 3,
   "metadata": {},
   "outputs": [],
   "source": [
    "p_weight_s1 = p_weight.iloc[:,:2].groupby('SubjectID',group_keys=False).agg(['mean', 'max', 'min'])\n",
    "p_weight_s1.reset_index()"
   ]
  },
  {
   "cell_type": "code",
   "execution_count": 4,
   "metadata": {},
   "outputs": [],
   "source": [
    "p_weight_s2 = p_weight.groupby('SubjectID').agg(['first', 'last'])\n",
    "p_weight_s2.reset_index()\n",
    "p_weight_s2['weight_change'] = p_weight_s2.iloc[:,1] - p_weight_s2.iloc[:,0]\n",
    "p_weight_s2['interval'] = p_weight_s2.iloc[:,3] - p_weight_s2.iloc[:,2]\n",
    "p_weight_s2['weight_slope'] = p_weight_s2['weight_change']/p_weight_s2['interval']"
   ]
  },
  {
   "cell_type": "code",
   "execution_count": 5,
   "metadata": {},
   "outputs": [],
   "source": [
    "p_weight_stat = p_weight_s1.merge(p_weight_s2[['weight_slope']], on = 'SubjectID', how='outer')\n",
    "p_weight_stat.columns = p_weight_stat.columns.droplevel()\n",
    "p_weight_stat.columns = ['mean_weight', 'max_weight', 'min_weight', 'slope_weight']"
   ]
  },
  {
   "cell_type": "code",
   "execution_count": 6,
   "metadata": {},
   "outputs": [],
   "source": [
    "p_weight_stat.to_csv('p_weight_stat.csv')"
   ]
  },
  {
   "cell_type": "markdown",
   "metadata": {},
   "source": [
    "Bmi"
   ]
  },
  {
   "cell_type": "code",
   "execution_count": 7,
   "metadata": {},
   "outputs": [],
   "source": [
    "p_bmi_stat = p_bmi.iloc[:,:2].groupby('SubjectID').mean()\n",
    "p_bmi_stat.reset_index()\n",
    "p_bmi_stat.columns = ['mean_BMI']"
   ]
  },
  {
   "cell_type": "code",
   "execution_count": 8,
   "metadata": {},
   "outputs": [],
   "source": [
    "p_bmi_stat.to_csv('p_bmi_stat.csv')"
   ]
  },
  {
   "cell_type": "markdown",
   "metadata": {},
   "source": [
    "Vitals"
   ]
  },
  {
   "cell_type": "code",
   "execution_count": 9,
   "metadata": {},
   "outputs": [],
   "source": [
    "p_vitals_s1 = p_vitals.iloc[:, [0,2,3,4,5,6]].groupby('SubjectID').agg(['mean','max', 'min'])\n",
    "p_weight_s1.reset_index()\n",
    "p_vitals_s1.columns = p_vitals_s1.columns.droplevel()\n",
    "p_vitals_s1.columns = ['mean_bp_d','max_bp_d', 'min_bp_d', 'mean_bp_s', 'max_bp_s', 'min_bp_s', 'mean_pulse', 'max_pulse', 'min_pulse', 'mean_resp_rate', 'max_resp_rate','min_resp_rate', 'mean_temp', 'max_temp', 'min_temp']"
   ]
  },
  {
   "cell_type": "code",
   "execution_count": 10,
   "metadata": {},
   "outputs": [],
   "source": [
    "p_vitals_s2 = p_vitals.groupby('SubjectID').agg(['first', 'last'])"
   ]
  },
  {
   "cell_type": "code",
   "execution_count": 11,
   "metadata": {},
   "outputs": [],
   "source": [
    "p_vitals_s2['interval'] = p_vitals_s2.iloc[:,1] - p_vitals_s2.iloc[:,0]\n",
    "p_vitals_s2['bp_d_slope'] = (p_vitals_s2.iloc[:,3] - p_vitals_s2.iloc[:,2])/p_vitals_s2['interval']\n",
    "p_vitals_s2['bp_s_slope'] = (p_vitals_s2.iloc[:,5] - p_vitals_s2.iloc[:,4])/p_vitals_s2['interval']\n",
    "p_vitals_s2['pulse_slope'] = (p_vitals_s2.iloc[:,7] - p_vitals_s2.iloc[:,6])/p_vitals_s2['interval']\n",
    "p_vitals_s2['resp_rate_slope'] = (p_vitals_s2.iloc[:,9] - p_vitals_s2.iloc[:,8])/p_vitals_s2['interval']\n",
    "p_vitals_s2['temp_slope'] = (p_vitals_s2.iloc[:,11] - p_vitals_s2.iloc[:,10])/p_vitals_s2['interval']\n",
    "p_vitals_s3 = p_vitals_s2.iloc[:,13:]\n",
    "p_vitals_s3.reset_index()\n",
    "p_vitals_s3.columns = p_vitals_s3.columns.droplevel()\n",
    "p_vitals_s3.columns = ['bp_d_slope', 'bp_s_slope', 'pulse_slope', 'resp_rate_slope', 'temp_slope']"
   ]
  },
  {
   "cell_type": "code",
   "execution_count": 12,
   "metadata": {},
   "outputs": [],
   "source": [
    "p_vitals_stat = p_vitals_s1.merge(p_vitals_s3, on='SubjectID', how='outer')"
   ]
  },
  {
   "cell_type": "code",
   "execution_count": 13,
   "metadata": {},
   "outputs": [
    {
     "name": "stdout",
     "output_type": "stream",
     "text": [
      "mean slope of bp_diastolic is -0.012789785355591155\n",
      "mean slope of bp_systolic is -0.03011553042853546\n",
      "mean slope of pulse is 0.028981676582765275\n",
      "mean slope of repiratory_rate is 0.006410376805338325\n",
      "mean slope of temperature is -0.0009184281970014379\n"
     ]
    }
   ],
   "source": [
    "print(\"mean slope of bp_diastolic is \"+str(p_vitals_stat[\"bp_d_slope\"].mean()))\n",
    "print(\"mean slope of bp_systolic is \"+str(p_vitals_stat[\"bp_s_slope\"].mean()))\n",
    "print(\"mean slope of pulse is \"+str(p_vitals_stat[\"pulse_slope\"].mean()))\n",
    "print(\"mean slope of repiratory_rate is \"+str(p_vitals_stat[\"resp_rate_slope\"].mean()))\n",
    "print(\"mean slope of temperature is \"+str(p_vitals_stat[\"temp_slope\"].mean()))"
   ]
  },
  {
   "cell_type": "code",
   "execution_count": 14,
   "metadata": {},
   "outputs": [],
   "source": [
    "p_vitals_stat.to_csv('p_vitals_stat.csv')"
   ]
  }
 ],
 "metadata": {
  "kernelspec": {
   "display_name": "Python 3",
   "language": "python",
   "name": "python3"
  },
  "language_info": {
   "codemirror_mode": {
    "name": "ipython",
    "version": 3
   },
   "file_extension": ".py",
   "mimetype": "text/x-python",
   "name": "python",
   "nbconvert_exporter": "python",
   "pygments_lexer": "ipython3",
   "version": "3.8.5"
  }
 },
 "nbformat": 4,
 "nbformat_minor": 4
}
