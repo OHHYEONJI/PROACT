{
 "cells": [
  {
   "cell_type": "code",
   "execution_count": 1,
   "metadata": {},
   "outputs": [],
   "source": [
    "import pandas as pd"
   ]
  },
  {
   "cell_type": "code",
   "execution_count": 2,
   "metadata": {},
   "outputs": [],
   "source": [
    "data_allforms_training2 = pd.read_csv('all_forms_PROACT_training2.txt', sep='|', header=0, dtype={\"feature_value\":str, \"feature_unit\":str}, low_memory = False)\n",
    "data_allforms_leaderboard = pd.read_csv('all_forms_PROACT_leaderboard_full.txt', sep='|', header=0, dtype={\"feature_value\":str, \"feature_unit\":str}, low_memory = False)"
   ]
  },
  {
   "cell_type": "code",
   "execution_count": 3,
   "metadata": {},
   "outputs": [],
   "source": [
    "p_data_allforms = pd.concat([data_allforms_training2, data_allforms_leaderboard])"
   ]
  },
  {
   "cell_type": "code",
   "execution_count": 4,
   "metadata": {},
   "outputs": [
    {
     "name": "stdout",
     "output_type": "stream",
     "text": [
      "600\n"
     ]
    }
   ],
   "source": [
    "print(len(p_data_allforms[\"SubjectID\"].unique()))"
   ]
  },
  {
   "cell_type": "code",
   "execution_count": 5,
   "metadata": {},
   "outputs": [],
   "source": [
    "extent = \"SubjectID == [ 4205, 4429, 5918, 7835,16979,24979,33478,36220, 44594, 49206, 55570, 55888, 57877,  58357,  61505,  63255,66653,  67179,  70322,  70641,  74004,  76552,  81246,  86624,87627,  93888,  95441, 103718, 108342, 127302, 130620, 133228,134289, 138675, 155671, 155975, 156379, 157887, 162230, 165856,170517, 175646, 176487, 181721, 192968, 202782, 208315, 216143,222865, 229629, 230818, 238506, 244084, 250930, 252453, 254915,258437, 279686, 280623, 283150, 291223, 292759, 297508, 297968,298510, 307024, 314475, 321019, 336849, 341058, 347997, 356210,361949, 366099, 376346, 382706, 397722, 398484, 403243, 410586,413216, 415471, 417319, 421227, 426220, 428780, 431091, 448372,450738, 453945, 465115, 468425, 471379, 480577, 493529, 495302,498543, 500432, 500567, 503708, 511759, 514918, 517150, 517705,32994, 535483, 539634, 546167, 549896, 549934, 549955, 551260,551501, 556969, 561151, 566189, 571574, 571682, 572693, 574605,578146, 579809, 590527, 592454, 595852, 596036, 597666, 601566,605360, 626966, 635367, 638295, 638921, 640684, 640864, 648290,660337, 660795, 671357, 671966, 678159, 686859, 689068, 690622,696711, 704461, 706242, 712061, 715464, 717580, 730170, 736521,739357, 740803, 742506, 743281, 745502, 752533, 757617, 759614,761257, 763345, 763657, 773886, 779218, 783656, 789221, 814471,818356, 825983, 826311, 831805, 837951, 838322, 850262, 853232,855477, 861631, 863324, 872400, 881826, 884004, 886545, 897932,898748, 901581, 907382, 908304, 921629, 925531, 939869, 943781,945153, 948490, 956638, 957124, 964941, 978851, 982136, 987497,   586,   2416,   5773,  10456,  10517,  12808,  12826,  13617,15060,  17937,  18341,  19344,  20626,  22303,  23315,  23939, 24246,  30381,  40173,  41626,  41875,  43715,  45098,  48338,49075,  50249,  58741,  59007,  61366,  61542,  65627,  67658, 74869,  75445,  78982,  79442,  79580,  80494,  81276,  82284,83297,  84699,  92785,  93998,  94666,  95781,  96133,  96361,  98797, 100933, 101247, 106943, 107298, 107935, 108170, 110956,112700, 113294, 115915, 120314, 120918, 121259, 121345, 127948,  128126, 129697, 139808, 140126, 143626, 145059, 150242, 151348,156715, 157145, 159481, 161593, 165426, 167631, 174015, 174017,  176976, 178164, 178807, 181358, 183220, 183516, 183680, 184307,184457, 185945, 188241, 190642, 194252, 198084, 201476, 203080,  211188, 211406, 213470, 214816, 218797, 220742, 224676, 226328,234245, 235883, 238931, 239479, 250275, 256878, 259326, 260194,  262653, 265485, 266528, 268254, 274309, 275355, 277323, 283642,286974, 289071, 290386, 293890, 295652, 298206, 298273, 307125,  310190, 310491, 317375, 319027, 319303, 320402, 322268, 323417,330073, 330181, 332380, 332661, 334208, 334776, 334830, 340180,  340335, 340986, 343003, 343665, 343905, 346904, 349917, 352683,354603, 354651, 356219, 364828, 374888, 375607, 375799, 377401,  378973, 380151, 383705, 385848, 386218, 387508, 390136, 396123,404486, 411295, 412269, 413710, 415115, 419832, 428787, 431659,  432220, 435658, 436107, 442535, 450532, 452218, 454494, 455352,456412, 457082, 457236, 459703, 462403, 466354, 467998, 469092,  484621, 485915, 486629, 486941, 487449, 487549, 492928, 496623,498074, 498912, 504674, 506948, 508921, 509033, 509699, 511906,  512439, 513760, 515135, 515598, 517687, 522753, 524706, 528748,531883, 534317, 536043, 541623, 548361, 552121, 555072, 557755,  559916, 560156, 560898, 563865, 574887, 577142, 578736, 583938,584948, 584976, 586459, 587322, 587810, 588544, 590812, 591836,  595735, 605693, 609633, 614078, 614440, 615341, 618981, 618988,619876, 620166, 626594, 629254, 629444, 630547, 632053, 636427,  639329, 652444, 663586, 666772, 667688, 668838, 669841, 672169,674296, 676418, 683430, 689289, 691149, 692374, 693656, 696153,  697189, 699213, 699245, 701195, 701616, 704019, 704027, 706887,709274, 716773, 718724, 719654, 722036, 725686, 726050, 729272,  730112, 731209, 735092, 736782, 739433, 740610, 740811, 744533,746733, 747639, 749110, 752008, 752219, 752901, 753926, 753929,  756274, 756381, 760669, 764679, 765168, 766696, 767810, 769569,771418, 777234, 777699, 777749, 778226, 785025, 787555, 787911,  793716, 796624, 796693, 801293, 804389, 808146, 814986, 817439,819608, 819697, 820680, 821175, 822912, 825773, 829121, 829278,  832662, 836560, 836567, 837546, 845345, 845538, 845735, 850698,852904, 857747, 860448, 860634, 864836, 869793, 870241, 873781,  876469, 882604, 883953, 885941, 890026, 891055, 895254, 895901,899608, 901600, 902544, 903563, 903934, 904489, 906692, 909960,  912801, 918023, 919450, 921297, 923852, 924929, 925146, 925572,932341, 936633, 937467, 940931, 941756, 944053, 950885, 956492,959282, 959441, 961350, 961587, 963210, 972480, 973121, 973736,974155, 977019, 986082, 988743, 992259, 993802, 999117, 999761]\""
   ]
  },
  {
   "cell_type": "markdown",
   "metadata": {},
   "source": [
    "Extract Static Features"
   ]
  },
  {
   "cell_type": "code",
   "execution_count": 6,
   "metadata": {},
   "outputs": [],
   "source": [
    "p_demographic = pd.read_csv('demographic.csv')\n",
    "p_family_hx = pd.read_csv('family_hx.csv')\n",
    "p_als_hx = pd.read_csv('als_hx.csv')\n",
    "p_riluzole = pd.read_csv('riluzole.csv')\n",
    "p_treatment_group = pd.read_csv('treatment_group.csv')"
   ]
  },
  {
   "cell_type": "code",
   "execution_count": 7,
   "metadata": {},
   "outputs": [],
   "source": [
    "p_demographic.query(extent, inplace=True)\n",
    "p_family_hx.query(extent, inplace=True)\n",
    "p_als_hx.query(extent, inplace=True)\n",
    "p_riluzole.query(extent, inplace=True)\n",
    "p_treatment_group.query(extent, inplace=True)"
   ]
  },
  {
   "cell_type": "code",
   "execution_count": 8,
   "metadata": {},
   "outputs": [],
   "source": [
    "p_static = pd.DataFrame(columns=['SubjectID'])\n",
    "static_list = [p_demographic, p_family_hx, p_als_hx, p_riluzole, p_treatment_group]\n",
    "for i in static_list :\n",
    "    df = i\n",
    "    p_static = p_static.merge(df, on='SubjectID', how='outer')"
   ]
  },
  {
   "cell_type": "code",
   "execution_count": 9,
   "metadata": {},
   "outputs": [],
   "source": [
    "p_static.set_index('SubjectID', inplace=True)"
   ]
  },
  {
   "cell_type": "code",
   "execution_count": 10,
   "metadata": {},
   "outputs": [],
   "source": [
    "p_static.to_csv('p_static_features.csv')"
   ]
  },
  {
   "cell_type": "markdown",
   "metadata": {},
   "source": [
    "Extract Time-resolved Features"
   ]
  },
  {
   "cell_type": "code",
   "execution_count": 11,
   "metadata": {},
   "outputs": [],
   "source": [
    "p_alsfrs_3mo = pd.read_csv('alsfrs_total_3mo_meta_slope.csv')\n",
    "p_fvc_3mo = pd.read_csv('fvc_3mo_meta.csv')\n",
    "p_svc_3mo = pd.read_csv('svc_3mo_meta.csv')\n",
    "p_vitals = pd.read_csv('vitals.csv')\n",
    "p_weight = pd.read_csv('weight.csv')\n",
    "p_bmi = pd.read_csv('bmi.csv')"
   ]
  },
  {
   "cell_type": "code",
   "execution_count": 12,
   "metadata": {},
   "outputs": [],
   "source": [
    "p_alsfrs_3mo.query(extent, inplace=True)\n",
    "p_fvc_3mo.query(extent, inplace=True)\n",
    "p_svc_3mo.query(extent, inplace=True)\n",
    "p_vitals.query(extent, inplace=True)\n",
    "p_weight.query(extent, inplace=True)\n",
    "p_bmi.query(extent, inplace=True)"
   ]
  },
  {
   "cell_type": "code",
   "execution_count": 13,
   "metadata": {},
   "outputs": [],
   "source": [
    "p_vitals.query('feature_delta < 92', inplace=True)\n",
    "p_weight.query('feature_delta < 92', inplace=True)\n",
    "p_bmi.query('feature_delta < 92', inplace=True)"
   ]
  },
  {
   "cell_type": "code",
   "execution_count": 14,
   "metadata": {},
   "outputs": [
    {
     "name": "stdout",
     "output_type": "stream",
     "text": [
      "485\n",
      "310\n",
      "126\n",
      "480\n",
      "477\n",
      "389\n"
     ]
    }
   ],
   "source": [
    "print(len(p_alsfrs_3mo[\"SubjectID\"].unique()))\n",
    "print(len(p_fvc_3mo[\"SubjectID\"].unique()))\n",
    "print(len(p_svc_3mo[\"SubjectID\"].unique()))\n",
    "print(len(p_vitals[\"SubjectID\"].unique()))\n",
    "print(len(p_weight[\"SubjectID\"].unique()))\n",
    "print(len(p_bmi[\"SubjectID\"].unique()))"
   ]
  },
  {
   "cell_type": "code",
   "execution_count": 15,
   "metadata": {},
   "outputs": [],
   "source": [
    "p_alsfrs_3mo.set_index('SubjectID', inplace=True)\n",
    "p_fvc_3mo.set_index('SubjectID', inplace=True)\n",
    "p_svc_3mo.set_index('SubjectID', inplace=True)\n",
    "p_vitals.set_index('SubjectID', inplace=True)\n",
    "p_weight.set_index('SubjectID', inplace=True)\n",
    "p_bmi.set_index('SubjectID', inplace=True)"
   ]
  },
  {
   "cell_type": "code",
   "execution_count": 16,
   "metadata": {},
   "outputs": [],
   "source": [
    "p_alsfrs_3mo = p_alsfrs_3mo.iloc[:,:4]\n",
    "p_fvc_3mo = p_fvc_3mo.iloc[:,:4]\n",
    "p_svc_3mo = p_svc_3mo.iloc[:,:4]"
   ]
  },
  {
   "cell_type": "code",
   "execution_count": 17,
   "metadata": {},
   "outputs": [],
   "source": [
    "p_alsfrs_3mo.to_csv('p_alsfrs_total_3mo_meta_slope.csv')\n",
    "p_fvc_3mo.to_csv('p_fvc_3mo_meta.csv')\n",
    "p_svc_3mo.to_csv('p_svc_3mo_meta.csv')\n",
    "p_vitals.to_csv('p_vitals.csv')\n",
    "p_weight.to_csv('p_weight.csv')\n",
    "p_bmi.to_csv('p_bmi.csv')"
   ]
  },
  {
   "cell_type": "markdown",
   "metadata": {},
   "source": [
    "Extract Target variable"
   ]
  },
  {
   "cell_type": "code",
   "execution_count": 18,
   "metadata": {},
   "outputs": [],
   "source": [
    "p_ALSFRS_slope = pd.read_csv('ALSFRS_slope.csv')"
   ]
  },
  {
   "cell_type": "code",
   "execution_count": 19,
   "metadata": {},
   "outputs": [],
   "source": [
    "p_ALSFRS_slope.query(extent, inplace=True)"
   ]
  },
  {
   "cell_type": "code",
   "execution_count": 20,
   "metadata": {},
   "outputs": [
    {
     "name": "stdout",
     "output_type": "stream",
     "text": [
      "271\n"
     ]
    }
   ],
   "source": [
    "print(len(p_ALSFRS_slope[\"SubjectID\"].unique()))"
   ]
  },
  {
   "cell_type": "code",
   "execution_count": 21,
   "metadata": {},
   "outputs": [],
   "source": [
    "p_ALSFRS_slope.set_index('SubjectID', inplace=True)\n",
    "p_ALSFRS_slope.to_csv('p_ALSFRS_slope.csv')"
   ]
  }
 ],
 "metadata": {
  "kernelspec": {
   "display_name": "Python 3",
   "language": "python",
   "name": "python3"
  },
  "language_info": {
   "codemirror_mode": {
    "name": "ipython",
    "version": 3
   },
   "file_extension": ".py",
   "mimetype": "text/x-python",
   "name": "python",
   "nbconvert_exporter": "python",
   "pygments_lexer": "ipython3",
   "version": "3.8.5"
  }
 },
 "nbformat": 4,
 "nbformat_minor": 4
}
